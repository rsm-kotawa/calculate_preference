{
 "cells": [
  {
   "cell_type": "code",
   "execution_count": 1,
   "metadata": {},
   "outputs": [
    {
     "name": "stdout",
     "output_type": "stream",
     "text": [
      "   id  y1  y2  y3  y4  f1  f2  f3  f4     p1     p2     p3     p4\n",
      "0   1   0   0   0   1   0   0   0   0  0.108  0.081  0.061  0.079\n",
      "1   2   0   1   0   0   0   0   0   0  0.108  0.098  0.064  0.075\n",
      "2   3   0   1   0   0   0   0   0   0  0.108  0.098  0.061  0.086\n",
      "3   4   0   1   0   0   0   0   0   0  0.108  0.098  0.061  0.086\n",
      "4   5   0   1   0   0   0   0   0   0  0.125  0.098  0.049  0.079\n",
      "              id           y1           y2           y3           y4  \\\n",
      "count  2430.0000  2430.000000  2430.000000  2430.000000  2430.000000   \n",
      "mean   1215.5000     0.341975     0.401235     0.029218     0.227572   \n",
      "std     701.6249     0.474469     0.490249     0.168452     0.419351   \n",
      "min       1.0000     0.000000     0.000000     0.000000     0.000000   \n",
      "25%     608.2500     0.000000     0.000000     0.000000     0.000000   \n",
      "50%    1215.5000     0.000000     0.000000     0.000000     0.000000   \n",
      "75%    1822.7500     1.000000     1.000000     0.000000     0.000000   \n",
      "max    2430.0000     1.000000     1.000000     1.000000     1.000000   \n",
      "\n",
      "                f1           f2           f3           f4           p1  \\\n",
      "count  2430.000000  2430.000000  2430.000000  2430.000000  2430.000000   \n",
      "mean      0.055556     0.039506     0.037449     0.037449     0.106248   \n",
      "std       0.229109     0.194836     0.189897     0.189897     0.020587   \n",
      "min       0.000000     0.000000     0.000000     0.000000    -0.012000   \n",
      "25%       0.000000     0.000000     0.000000     0.000000     0.103000   \n",
      "50%       0.000000     0.000000     0.000000     0.000000     0.108000   \n",
      "75%       0.000000     0.000000     0.000000     0.000000     0.115000   \n",
      "max       1.000000     1.000000     1.000000     1.000000     0.193000   \n",
      "\n",
      "                p2           p3           p4  \n",
      "count  2430.000000  2430.000000  2430.000000  \n",
      "mean      0.081532     0.053622     0.079507  \n",
      "std       0.011047     0.008054     0.007714  \n",
      "min       0.000000     0.025000     0.004000  \n",
      "25%       0.081000     0.050000     0.079000  \n",
      "50%       0.086000     0.054000     0.079000  \n",
      "75%       0.086000     0.061000     0.086000  \n",
      "max       0.111000     0.086000     0.104000  \n"
     ]
    }
   ],
   "source": [
    "import pandas as pd\n",
    "\n",
    "yogurt_data = pd.read_csv('yogurt_data.csv')\n",
    "\n",
    "print(yogurt_data.head())\n",
    "print(yogurt_data.describe())\n"
   ]
  },
  {
   "cell_type": "code",
   "execution_count": 2,
   "metadata": {},
   "outputs": [
    {
     "name": "stdout",
     "output_type": "stream",
     "text": [
      "type  id  product  featured  price  chosen  yogurt1  yogurt2  yogurt3\n",
      "0      1        1       0.0  0.108     0.0        1        0        0\n",
      "1      1        2       0.0  0.081     0.0        0        1        0\n",
      "2      1        3       0.0  0.061     0.0        0        0        1\n",
      "3      1        4       0.0  0.079     1.0        0        0        0\n",
      "4      2        1       0.0  0.108     0.0        1        0        0\n"
     ]
    }
   ],
   "source": [
    "# Reshape the data to a long format\n",
    "long_format = pd.melt(yogurt_data, id_vars=['id'],\n",
    "                      value_vars=['y1', 'y2', 'y3', 'y4', 'f1', 'f2', 'f3', 'f4', 'p1', 'p2', 'p3', 'p4'],\n",
    "                      var_name='product', value_name='value')\n",
    "\n",
    "# Split the product column to separate type and product number\n",
    "long_format['type'] = long_format['product'].str[0]  # 'y', 'f', or 'p'\n",
    "long_format['product'] = long_format['product'].str[1:].astype(int)  # 1, 2, 3, or 4\n",
    "\n",
    "# Pivot the table to get 'chosen', 'featured', and 'price' as columns\n",
    "reshaped_data = long_format.pivot_table(index=['id', 'product'], columns='type', values='value', aggfunc='first').reset_index()\n",
    "\n",
    "# Create dummy variables for the first three products\n",
    "reshaped_data['yogurt1'] = (reshaped_data['product'] == 1).astype(int)\n",
    "reshaped_data['yogurt2'] = (reshaped_data['product'] == 2).astype(int)\n",
    "reshaped_data['yogurt3'] = (reshaped_data['product'] == 3).astype(int)\n",
    "\n",
    "# Rename columns for clarity\n",
    "reshaped_data.rename(columns={'y': 'chosen', 'f': 'featured', 'p': 'price'}, inplace=True)\n",
    "\n",
    "# Display the first few rows of the reshaped data\n",
    "print(reshaped_data.head())"
   ]
  },
  {
   "cell_type": "markdown",
   "metadata": {},
   "source": [
    "todo: Code up the log-likelihood function.\n",
    "\n"
   ]
  },
  {
   "cell_type": "code",
   "execution_count": 3,
   "metadata": {},
   "outputs": [
    {
     "name": "stdout",
     "output_type": "stream",
     "text": [
      "Log-Likelihood: -3368.6952975213335\n"
     ]
    }
   ],
   "source": [
    "import numpy as np\n",
    "\n",
    "def log_likelihood(beta, data):\n",
    "    \"\"\"\n",
    "    Calculate the log-likelihood of the Multi-nomial Logit model.\n",
    "\n",
    "    Parameters:\n",
    "    - beta: numpy array of coefficients for the utility functions.\n",
    "    - data: pandas DataFrame with the reshaped yogurt data.\n",
    "\n",
    "    Returns:\n",
    "    - The log-likelihood value.\n",
    "    \"\"\"\n",
    "    # Calculate utilities for each product and each choice\n",
    "    # Assume 'data' has columns 'yogurt1', 'yogurt2', 'yogurt3', 'featured', 'price' for the covariates\n",
    "    X = data[['yogurt1', 'yogurt2', 'yogurt3', 'featured', 'price']]\n",
    "    utilities = X.dot(beta)\n",
    "    \n",
    "    # Reshape utilities to have one row per consumer, assuming the same number of rows per consumer\n",
    "    num_products = 4  # Number of product choices\n",
    "    utilities = utilities.values.reshape(-1, num_products)\n",
    "    \n",
    "    # Compute the softmax probabilities for each choice\n",
    "    max_utilities = np.max(utilities, axis=1, keepdims=True)\n",
    "    exp_utilities = np.exp(utilities - max_utilities)\n",
    "    choice_probabilities = exp_utilities / np.sum(exp_utilities, axis=1, keepdims=True)\n",
    "    \n",
    "    # Get the choice indicator matrix\n",
    "    chosen = data['chosen'].values.reshape(-1, num_products)\n",
    "    \n",
    "    # Calculate the log-likelihood\n",
    "    log_probs = np.log(choice_probabilities) * chosen\n",
    "    log_likelihood = np.sum(log_probs)\n",
    "    \n",
    "    return log_likelihood\n",
    "\n",
    "# Example usage:\n",
    "beta_initial = np.zeros(5)  # Initialize beta values (5 coefficients for the features)\n",
    "log_likelihood_value = log_likelihood(beta_initial, reshaped_data)\n",
    "print(\"Log-Likelihood:\", log_likelihood_value)"
   ]
  },
  {
   "cell_type": "markdown",
   "metadata": {},
   "source": [
    "todo: Use `optim()` in R or `optimize()` in Python to find the MLEs for the 5 parameters ($\\beta_1, \\beta_2, \\beta_3, \\beta_f, \\beta_p$).  (Hint: you should find 2 positive and 1 negative product intercepts, a small positive coefficient estimate for featured, and a large negative coefficient estimate for price.)_\n"
   ]
  },
  {
   "cell_type": "code",
   "execution_count": 4,
   "metadata": {},
   "outputs": [
    {
     "name": "stdout",
     "output_type": "stream",
     "text": [
      "Optimization Results:\n",
      "Estimated coefficients: [  1.38775382   0.64350496  -3.08611568   0.48741362 -37.05794232]\n",
      "Success: False\n",
      "Message: Desired error not necessarily achieved due to precision loss.\n"
     ]
    }
   ],
   "source": [
    "from scipy.optimize import minimize\n",
    "import numpy as np\n",
    "\n",
    "def negative_log_likelihood(beta, data):\n",
    "    \"\"\"\n",
    "    Calculate the negative log-likelihood for the MNL model to be used in optimization.\n",
    "    This is the negative of the log_likelihood function defined earlier.\n",
    "    \"\"\"\n",
    "    X = data[['yogurt1', 'yogurt2', 'yogurt3', 'featured', 'price']]\n",
    "    utilities = X.dot(beta)\n",
    "    num_products = 4\n",
    "    utilities = utilities.values.reshape(-1, num_products)\n",
    "    \n",
    "    max_utilities = np.max(utilities, axis=1, keepdims=True)\n",
    "    exp_utilities = np.exp(utilities - max_utilities)\n",
    "    choice_probabilities = exp_utilities / np.sum(exp_utilities, axis=1, keepdims=True)\n",
    "    \n",
    "    chosen = data['chosen'].values.reshape(-1, num_products)\n",
    "    \n",
    "    log_probs = np.log(choice_probabilities) * chosen\n",
    "    log_likelihood = np.sum(log_probs)\n",
    "    \n",
    "    return -log_likelihood  # Return negative log-likelihood\n",
    "\n",
    "# Initial guess for the parameters: [beta1, beta2, beta3, beta_f, beta_p]\n",
    "initial_guess = np.zeros(5)\n",
    "\n",
    "# Perform the minimization using 'BFGS' algorithm\n",
    "result = minimize(negative_log_likelihood, initial_guess, args=(reshaped_data,), method='BFGS')\n",
    "\n",
    "print(\"Optimization Results:\")\n",
    "print(\"Estimated coefficients:\", result.x)\n",
    "print(\"Success:\", result.success)\n",
    "print(\"Message:\", result.message)"
   ]
  },
  {
   "cell_type": "markdown",
   "metadata": {},
   "source": [
    "todo: interpret the 3 product intercepts (which yogurt is most preferred?)._\n"
   ]
  },
  {
   "cell_type": "code",
   "execution_count": 5,
   "metadata": {},
   "outputs": [
    {
     "data": {
      "image/png": "[encoded data removed]",
      "text/plain": [
       "<Figure size 800x500 with 1 Axes>"
      ]
     },
     "metadata": {},
     "output_type": "display_data"
    }
   ],
   "source": [
    "import matplotlib.pyplot as plt\n",
    "import numpy as np\n",
    "\n",
    "# Example estimated intercepts from your optimization results\n",
    "beta_estimates = np.array([0.5, 0.2, -0.1])  # Replace these with your actual results\n",
    "product_labels = ['Yogurt 1', 'Yogurt 2', 'Yogurt 3']\n",
    "\n",
    "# Optional: If you have standard errors, you can calculate confidence intervals\n",
    "# Example standard errors for each beta\n",
    "standard_errors = np.array([0.05, 0.05, 0.05])  # Placeholder values\n",
    "confidence_intervals = 1.96 * standard_errors  # 95% CI\n",
    "\n",
    "# Create a bar plot\n",
    "plt.figure(figsize=(8, 5))\n",
    "plt.bar(product_labels, beta_estimates, yerr=confidence_intervals, color='skyblue', capsize=5)\n",
    "plt.ylabel('Coefficient Estimate')\n",
    "plt.title('Intercept Coefficients for Yogurts')\n",
    "plt.axhline(0, color='gray', linewidth=0.8)  # Draw a line at zero for reference\n",
    "\n",
    "# Display the plot\n",
    "plt.show()\n"
   ]
  },
  {
   "cell_type": "markdown",
   "metadata": {},
   "source": [
    "todo: use the estimated price coefficient as a dollar-per-util conversion factor. Use this conversion factor to calculate the dollar benefit between the most-preferred yogurt (the one with the highest intercept) and the least preferred yogurt (the one with the lowest intercept). This is a per-unit monetary measure of brand value._\n"
   ]
  },
  {
   "cell_type": "code",
   "execution_count": 6,
   "metadata": {},
   "outputs": [
    {
     "name": "stdout",
     "output_type": "stream",
     "text": [
      "Dollar benefit of the most preferred over the least preferred yogurt: $0.60\n"
     ]
    }
   ],
   "source": [
    "# Coefficients from the model\n",
    "beta_intercepts = np.array([0.5, 0.2, -0.1])  # Replace these with your actual results\n",
    "beta_price = -1.0  # Replace with your actual price coefficient\n",
    "\n",
    "# Find the indices for the most and least preferred yogurts\n",
    "index_most_preferred = np.argmax(beta_intercepts)\n",
    "index_least_preferred = np.argmin(beta_intercepts)\n",
    "\n",
    "# Calculate the utility difference\n",
    "utility_difference = beta_intercepts[index_most_preferred] - beta_intercepts[index_least_preferred]\n",
    "\n",
    "# Convert utility difference to dollar benefit using the price coefficient\n",
    "# Note: Since beta_price is negative, we use its absolute value to convert utilities to dollars\n",
    "dollar_benefit = utility_difference / abs(beta_price)\n",
    "\n",
    "print(f\"Dollar benefit of the most preferred over the least preferred yogurt: ${dollar_benefit:.2f}\")\n"
   ]
  },
  {
   "cell_type": "markdown",
   "metadata": {},
   "source": [
    "todo: download the dataset from here:_ http://goo.gl/5xQObB \n"
   ]
  },
  {
   "cell_type": "code",
   "execution_count": 7,
   "metadata": {},
   "outputs": [
    {
     "name": "stdout",
     "output_type": "stream",
     "text": [
      "Dataset downloaded successfully.\n"
     ]
    }
   ],
   "source": [
    "import requests\n",
    "\n",
    "# URL of the dataset\n",
    "url = 'http://goo.gl/5xQObB'\n",
    "\n",
    "# Send a GET request to the URL\n",
    "response = requests.get(url)\n",
    "\n",
    "# Check if the request was successful\n",
    "if response.status_code == 200:\n",
    "    # Open a file to write the dataset to (specify the path and file name)\n",
    "    with open('minivan_data.csv', 'wb') as file:\n",
    "        file.write(response.content)\n",
    "    print(\"Dataset downloaded successfully.\")\n",
    "else:\n",
    "    print(\"Failed to download the dataset. Status code:\", response.status_code)\n"
   ]
  },
  {
   "cell_type": "markdown",
   "metadata": {},
   "source": [
    "todo: describe the data a bit. How many respondents took the conjoint survey?  How many choice tasks did each respondent complete?  How many alternatives were presented on each choice task? For each alternative._\n"
   ]
  },
  {
   "cell_type": "code",
   "execution_count": 8,
   "metadata": {},
   "outputs": [
    {
     "name": "stdout",
     "output_type": "stream",
     "text": [
      "\n",
      "Detailed Info:\n"
     ]
    },
    {
     "ename": "NameError",
     "evalue": "name 'minivan_data' is not defined",
     "output_type": "error",
     "traceback": [
      "\u001b[0;31m---------------------------------------------------------------------------\u001b[0m",
      "\u001b[0;31mNameError\u001b[0m                                 Traceback (most recent call last)",
      "Cell \u001b[0;32mIn[8], line 3\u001b[0m\n\u001b[1;32m      1\u001b[0m \u001b[39m# Get info to check non-null counts and column data types\u001b[39;00m\n\u001b[1;32m      2\u001b[0m \u001b[39mprint\u001b[39m(\u001b[39m\"\u001b[39m\u001b[39m\\n\u001b[39;00m\u001b[39mDetailed Info:\u001b[39m\u001b[39m\"\u001b[39m)\n\u001b[0;32m----> 3\u001b[0m minivan_data\u001b[39m.\u001b[39minfo()\n\u001b[1;32m      5\u001b[0m \u001b[39m# Count unique respondents if the column name is known from previous outputs\u001b[39;00m\n\u001b[1;32m      6\u001b[0m \u001b[39m# For example, let's assume the column name from the output is 'participant_id' or similar\u001b[39;00m\n\u001b[1;32m      7\u001b[0m \u001b[39mif\u001b[39;00m \u001b[39m'\u001b[39m\u001b[39mparticipant_id\u001b[39m\u001b[39m'\u001b[39m \u001b[39min\u001b[39;00m minivan_data\u001b[39m.\u001b[39mcolumns:\n",
      "\u001b[0;31mNameError\u001b[0m: name 'minivan_data' is not defined"
     ]
    }
   ],
   "source": [
    "\n",
    "# Get info to check non-null counts and column data types\n",
    "print(\"\\nDetailed Info:\")\n",
    "minivan_data.info()\n",
    "\n",
    "# Count unique respondents if the column name is known from previous outputs\n",
    "# For example, let's assume the column name from the output is 'participant_id' or similar\n",
    "if 'participant_id' in minivan_data.columns:\n",
    "    respondent_count = minivan_data['participant_id'].nunique()\n",
    "    print(f\"Number of respondents: {respondent_count}\")\n",
    "\n",
    "    # Counting tasks per respondent\n",
    "    tasks_per_respondent = minivan_data.groupby('participant_id')['task_id'].nunique()\n",
    "    print(f\"Number of choice tasks completed by each respondent (example for one respondent): {tasks_per_respondent.iloc[0]}\")\n",
    "\n",
    "    # Assuming there is a column that details the alternatives presented in each task\n",
    "    if 'task_id' in minivan_data.columns and 'alt_id' in minivan_data.columns:\n",
    "        alternatives_per_task = minivan_data.groupby(['participant_id', 'task_id']).size()\n",
    "        print(f\"Number of alternatives presented on each choice task (example for one task): {alternatives_per_task.iloc[0]}\")\n",
    "else:\n",
    "    print(\"Correct column name for 'participant_id' not found. Please check dataset details above for the right column name.\")"
   ]
  },
  {
   "cell_type": "markdown",
   "metadata": {},
   "source": [
    "todo: estimate a MNL model omitting the following levels to avoide multicollinearity (6 seats, 2ft cargo, and gas engine). Include price as a continuous variable. Show a table of coefficients and standard errors.  You may use your own likelihood function from above, or you may use a function from a package/library to perform the estimation."
   ]
  },
  {
   "cell_type": "code",
   "execution_count": null,
   "metadata": {},
   "outputs": [
    {
     "name": "stdout",
     "output_type": "stream",
     "text": [
      "Optimization terminated successfully.\n",
      "         Current function value: 0.558663\n",
      "         Iterations 6\n",
      "                           Logit Regression Results                           \n",
      "==============================================================================\n",
      "Dep. Variable:                 choice   No. Observations:                 9000\n",
      "Model:                          Logit   Df Residuals:                     8993\n",
      "Method:                           MLE   Df Model:                            6\n",
      "Date:                Tue, 14 May 2024   Pseudo R-squ.:                  0.1223\n",
      "Time:                        17:58:24   Log-Likelihood:                -5028.0\n",
      "converged:                       True   LL-Null:                       -5728.6\n",
      "Covariance Type:            nonrobust   LLR p-value:                1.252e-299\n",
      "===================================================================================\n",
      "                      coef    std err          z      P>|z|      [0.025      0.975]\n",
      "-----------------------------------------------------------------------------------\n",
      "const               5.5322      0.224     24.677      0.000       5.093       5.972\n",
      "seats_7            -0.5248      0.060     -8.800      0.000      -0.642      -0.408\n",
      "seats_8            -0.2931      0.059     -5.009      0.000      -0.408      -0.178\n",
      "cargo_3ft           0.4385      0.049      9.004      0.000       0.343       0.534\n",
      "engine_hybrid      -0.7605      0.057    -13.361      0.000      -0.872      -0.649\n",
      "engine_electric    -1.4347      0.062    -23.217      0.000      -1.556      -1.314\n",
      "price              -0.1591      0.006    -25.616      0.000      -0.171      -0.147\n",
      "===================================================================================\n"
     ]
    }
   ],
   "source": [
    "import statsmodels.api as sm\n",
    "\n",
    "data = pd.read_csv('minivan_data.csv')  # adjust path as necessary\n",
    "\n",
    "data['seats_7'] = (data['seat'] == 7).astype(int)\n",
    "data['seats_8'] = (data['seat'] == 8).astype(int)\n",
    "data['cargo_3ft'] = (data['cargo'] == '3ft').astype(int)\n",
    "data['engine_hybrid'] = (data['eng'] == 'hyb').astype(int)\n",
    "data['engine_electric'] = (data['eng'] == 'elec').astype(int)\n",
    "\n",
    "# The dependent variable 'choice' should be binary indicating the choice made\n",
    "X = data[['seats_7', 'seats_8', 'cargo_3ft', 'engine_hybrid', 'engine_electric', 'price']]\n",
    "y = data['choice']  # binary choice\n",
    "\n",
    "# Add a constant to the independent variables\n",
    "X = sm.add_constant(X)\n",
    "\n",
    "# Fit the logistic regression model\n",
    "model = sm.Logit(y, X)\n",
    "result = model.fit()\n",
    "\n",
    "# Display the results\n",
    "print(result.summary())\n",
    "\n",
    "\n"
   ]
  },
  {
   "cell_type": "markdown",
   "metadata": {},
   "source": [
    "todo: Interpret the coefficients. Which features are more preferred?_\n"
   ]
  },
  {
   "cell_type": "markdown",
   "metadata": {},
   "source": [
    "The const represents the baseline utility for choosing a minivan. Which are seats_6, cargo_2ft, and engine_gas. The coefficient for seats 7 and 8 was negative, stating that 6 seats is more preferred. \n",
    "\n",
    "The base line for cargo space is 2ft. The coefficient for 3ft cargo was a positive stating 3ft cargo space is the most preferred option.\n",
    "\n",
    "The coefficient for electric and hybrid was negative, representing that the baseline of Gas engine is the most preferred option. \n",
    "\n",
    "The price coefficient is negative, indicating that respondents prefer lower prices. The coefficient for seats 7 and 8 is positive, indicating that respondents prefer 4 seats to 2 seats."
   ]
  },
  {
   "cell_type": "code",
   "execution_count": 9,
   "metadata": {},
   "outputs": [
    {
     "name": "stdout",
     "output_type": "stream",
     "text": [
      "Dollar value of 3ft cargo space compared to 2ft: $ 2.7561282212445004\n"
     ]
    }
   ],
   "source": [
    "beta_cargo_3ft = 0.4385\n",
    "beta_price = -0.1591\n",
    "\n",
    "# Calculate the dollar value of 3ft of cargo space\n",
    "dollar_value_cargo_space = beta_cargo_3ft / abs(beta_price)\n",
    "print(\"Dollar value of 3ft cargo space compared to 2ft: $\", dollar_value_cargo_space)"
   ]
  },
  {
   "cell_type": "code",
   "execution_count": 10,
   "metadata": {},
   "outputs": [
    {
     "name": "stdout",
     "output_type": "stream",
     "text": [
      "  Minivan  Market Share\n",
      "0       A      0.116071\n",
      "1       B      0.419684\n",
      "2       C      0.313062\n",
      "3       D      0.078430\n",
      "4       E      0.020365\n",
      "5       F      0.052389\n"
     ]
    }
   ],
   "source": [
    "import numpy as np\n",
    "import pandas as pd\n",
    "\n",
    "# Define the minivan attributes\n",
    "minivans = pd.DataFrame({\n",
    "    'Minivan': ['A', 'B', 'C', 'D', 'E', 'F'],\n",
    "    'seats': [7, 6, 8, 7, 6, 7],\n",
    "    'cargo': [2, 2, 2, 3, 2, 2],\n",
    "    'engine': ['hyb', 'gas', 'gas', 'gas', 'elec', 'hyb'],\n",
    "    'price': [30, 30, 30, 40, 40, 35]\n",
    "})\n",
    "\n",
    "# Map the attributes to the model features\n",
    "minivans['seats_7'] = (minivans['seats'] == 7).astype(int)\n",
    "minivans['seats_8'] = (minivans['seats'] == 8).astype(int)\n",
    "minivans['cargo_3ft'] = (minivans['cargo'] == 3).astype(int)\n",
    "minivans['engine_hybrid'] = (minivans['engine'] == 'hyb').astype(int)\n",
    "minivans['engine_electric'] = (minivans['engine'] == 'elec').astype(int)\n",
    "\n",
    "# Coefficients from the logistic regression model\n",
    "coefficients = {\n",
    "    'const': 5.5322,\n",
    "    'seats_7': -0.5248,\n",
    "    'seats_8': -0.2931,\n",
    "    'cargo_3ft': 0.4385,\n",
    "    'engine_hybrid': -0.7605,\n",
    "    'engine_electric': -1.4347,\n",
    "    'price': -0.1591\n",
    "}\n",
    "\n",
    "# Calculate utility for each minivan\n",
    "minivans['utility'] = (coefficients['const'] +\n",
    "                       coefficients['seats_7'] * minivans['seats_7'] +\n",
    "                       coefficients['seats_8'] * minivans['seats_8'] +\n",
    "                       coefficients['cargo_3ft'] * minivans['cargo_3ft'] +\n",
    "                       coefficients['engine_hybrid'] * minivans['engine_hybrid'] +\n",
    "                       coefficients['engine_electric'] * minivans['engine_electric'] +\n",
    "                       coefficients['price'] * minivans['price'])\n",
    "\n",
    "# Calculate the choice probabilities using the softmax function\n",
    "minivans['exp_utility'] = np.exp(minivans['utility'])\n",
    "sum_exp_utility = minivans['exp_utility'].sum()\n",
    "minivans['probability'] = minivans['exp_utility'] / sum_exp_utility\n",
    "\n",
    "# Display the market shares (choice probabilities)\n",
    "minivan_shares = minivans[['Minivan', 'probability']]\n",
    "minivan_shares.columns = ['Minivan', 'Market Share']\n",
    "\n",
    "print(minivan_shares)"
   ]
  }
 ],
 "metadata": {
  "kernelspec": {
   "display_name": "base",
   "language": "python",
   "name": "python3"
  },
  "language_info": {
   "codemirror_mode": {
    "name": "ipython",
    "version": 3
   },
   "file_extension": ".py",
   "mimetype": "text/x-python",
   "name": "python",
   "nbconvert_exporter": "python",
   "pygments_lexer": "ipython3",
   "version": "3.11.7"
  },
  "orig_nbformat": 4
 },
 "nbformat": 4,
 "nbformat_minor": 2
}
